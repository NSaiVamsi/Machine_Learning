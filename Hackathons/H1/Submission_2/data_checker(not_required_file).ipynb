{
 "cells": [
  {
   "cell_type": "code",
   "execution_count": 1,
   "metadata": {},
   "outputs": [
    {
     "name": "stdout",
     "output_type": "stream",
     "text": [
      "The CSV files are identical.\n"
     ]
    }
   ],
   "source": [
    "import pandas as pd\n",
    "\n",
    "# Step 1: Read CSV Files\n",
    "\n",
    "df1 = pd.read_csv('pred_final.csv')\n",
    "df2 = pd.read_csv('test_output.csv')\n",
    "\n",
    "# Step 2: Compare DataFrames\n",
    "# Assuming both DataFrames have the same structure, you can use the `equals` function\n",
    "# If the structure is different, you might need to perform more specific comparisons\n",
    "\n",
    "differences = df1.equals(df2)\n",
    "# differences1 = df1.ne(df2)\n",
    "\n",
    "# column_diff_counts = differences1.sum()\n",
    "\n",
    "# # Display the counts of differences for each column\n",
    "# print(\"Count of differences for each column:\")\n",
    "# display(column_diff_counts)\n",
    "\n",
    "# Step 3: Display or Save Results\n",
    "if differences:\n",
    "    print(\"The CSV files are identical.\")\n",
    "else:\n",
    "    # If not identical, you can display or save the differences\n",
    "    diff_df = pd.concat([df1, df2]).drop_duplicates(keep=False)\n",
    "    \n",
    "    # Display the differences\n",
    "    print(\"Differences between the two CSV files:\")\n",
    "    # display(diff_df)\n",
    "    print(len(diff_df))\n",
    "    \n",
    "    # Alternatively, you can save the differences to a new CSV file\n",
    "    # diff_df.to_csv('path/to/save/differences.csv', index=False)\n"
   ]
  },
  {
   "cell_type": "code",
   "execution_count": null,
   "metadata": {},
   "outputs": [],
   "source": []
  }
 ],
 "metadata": {
  "kernelspec": {
   "display_name": "Python 3",
   "language": "python",
   "name": "python3"
  },
  "language_info": {
   "codemirror_mode": {
    "name": "ipython",
    "version": 3
   },
   "file_extension": ".py",
   "mimetype": "text/x-python",
   "name": "python",
   "nbconvert_exporter": "python",
   "pygments_lexer": "ipython3",
   "version": "3.12.0"
  }
 },
 "nbformat": 4,
 "nbformat_minor": 2
}
