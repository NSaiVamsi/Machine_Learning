{
  "nbformat": 4,
  "nbformat_minor": 0,
  "metadata": {
    "colab": {
      "provenance": []
    },
    "kernelspec": {
      "name": "python3",
      "display_name": "Python 3"
    },
    "language_info": {
      "name": "python"
    }
  },
  "cells": [
    {
      "cell_type": "markdown",
      "source": [
        "# Q. 1"
      ],
      "metadata": {
        "id": "um6qg-b_MgUQ"
      }
    },
    {
      "cell_type": "code",
      "source": [
        "import numpy as np\n",
        "\n",
        "def last_element(x):\n",
        "  sum1 = x[0]\n",
        "  sum2 = x[0]\n",
        "  for i in range(1, len(x)):\n",
        "    if i == len(x)-1:\n",
        "      sum1 = sum1 + x[i]\n",
        "    else:\n",
        "      sum2 = sum2 + x[i]\n",
        "      sum1 = sum1 + x[i]\n",
        "  return sum1-sum2\n",
        "\n",
        "np.random.seed(5)\n",
        "\n",
        "# Generating random arrays\n",
        "for k in [5, 10, 50, 100, 1000, 10000]:\n",
        "  x = np.random.rand(k)\n",
        "  sum = last_element(x)\n",
        "  # Printing the sum\n",
        "  print(\"Roundoff error: \",abs(x[-1]-sum))"
      ],
      "metadata": {
        "colab": {
          "base_uri": "https://localhost:8080/"
        },
        "id": "h81z88bOMgKZ",
        "outputId": "34507674-9b69-494e-a161-6449069c07a1"
      },
      "execution_count": 42,
      "outputs": [
        {
          "output_type": "stream",
          "name": "stdout",
          "text": [
            "Roundoff error:  1.1102230246251565e-16\n",
            "Roundoff error:  4.440892098500626e-16\n",
            "Roundoff error:  1.2212453270876722e-15\n",
            "Roundoff error:  6.661338147750939e-16\n",
            "Roundoff error:  1.4432899320127035e-15\n",
            "Roundoff error:  2.808864252301646e-14\n"
          ]
        }
      ]
    },
    {
      "cell_type": "markdown",
      "source": [
        "# Q. 2\n"
      ],
      "metadata": {
        "id": "Di-8dqp19SQd"
      }
    },
    {
      "cell_type": "code",
      "source": [
        "# The given algorithm is:\n",
        "\n",
        "x = 0.0\n",
        "while x < 2.0:\n",
        "  print(x)\n",
        "  x += 0.1"
      ],
      "metadata": {
        "id": "IWajhv929SJP",
        "colab": {
          "base_uri": "https://localhost:8080/"
        },
        "outputId": "c090f9a8-1151-4619-b3a0-1c045389ec66"
      },
      "execution_count": 32,
      "outputs": [
        {
          "output_type": "stream",
          "name": "stdout",
          "text": [
            "0.0\n",
            "0.1\n",
            "0.2\n",
            "0.30000000000000004\n",
            "0.4\n",
            "0.5\n",
            "0.6\n",
            "0.7\n",
            "0.7999999999999999\n",
            "0.8999999999999999\n",
            "0.9999999999999999\n",
            "1.0999999999999999\n",
            "1.2\n",
            "1.3\n",
            "1.4000000000000001\n",
            "1.5000000000000002\n",
            "1.6000000000000003\n",
            "1.7000000000000004\n",
            "1.8000000000000005\n",
            "1.9000000000000006\n"
          ]
        }
      ]
    },
    {
      "cell_type": "markdown",
      "source": [
        "### Explanation of Output:\n",
        "\n",
        "- As floating point numbers in computers are stored with a limited number of bits i.e., either 32/ 64 bits because of this we lead to finite precision.\n",
        "- Due to this finite precision all decimal numbers cannot be exactly represented and repeated calculations can increase this small errors.\n",
        "- In the above code like adding 0.1 can lead to accumulating representation errors.\n",
        "- Each subsequent operation introduces its own error but also adds errors from previous iterations causing deviations from expected values.\n"
      ],
      "metadata": {
        "id": "6CHszaei9iaV"
      }
    },
    {
      "cell_type": "markdown",
      "source": [
        "# Q. 3\n",
        "\n",
        "### A)\n",
        "**Problem:** As $x$ becomes, the difference between $\\sqrt{x+1}$ and $\\sqrt{x}$ becomes very small leading to loss of significance in floating-point arithmetic.\n",
        "\n",
        "**Fix:** Use the identity $\\sqrt{x+1}^2-\\sqrt{x}^2$, i.e, $\\sqrt{x+1} - \\sqrt{x} = \\frac{1}{\\sqrt{x+1}+\\sqrt{x}}$. Doing this we can do correct arthmetic as this can lead to a correct potential loss of significance in floating-point arithmetic.\n",
        "\n",
        "### B)\n",
        "**Problem:** When $x$ is very close to zero the give expression evaluates to $-∞$ this can introduce large round-off errors.\n",
        "\n",
        "**Fix:** Instead use logarithmic properties, $\\log(x^2)-\\log(x^2+x) = \\log(\\frac{x^2}{x^2+x})$.  Doing this we can do correct arthmetic as this can lead to a correct potential loss of significance in floating-point arithmetic as this method evaluates to value near to $0$.\n",
        "\n",
        "### C)\n",
        "**Problem:** In this expression the round-off error comes when $\\sin^2(x)$ and $\\cos^2(x)\n",
        "$ are nearly same as their difference can lead to loss in precision.\n",
        "\n",
        "**Fix:** Instead use $\\cos(2x)$ formula for avoiding round-off errors.\n"
      ],
      "metadata": {
        "id": "Nl2X7VAXSBqu"
      }
    },
    {
      "cell_type": "markdown",
      "source": [
        "# Q. 4\n"
      ],
      "metadata": {
        "id": "QGsCUgls6-2g"
      }
    },
    {
      "cell_type": "code",
      "source": [
        "def my_make_size10(x):\n",
        "  # If the length of x > 10, return the first 10 elements\n",
        "  if len(x) > 10:\n",
        "    return list(x)[:10]\n",
        "  # If the length of x <= 10, padding with zeros to make its length 10\n",
        "  else:\n",
        "    return list(x) + [0] * (10 - len(x))\n",
        "\n",
        "print(my_make_size10(range(1,3)))\n",
        "print(my_make_size10(range(1,15)))"
      ],
      "metadata": {
        "id": "tM-SHlFY6-rZ",
        "colab": {
          "base_uri": "https://localhost:8080/"
        },
        "outputId": "0f0a4ed1-4142-4ef6-d4cc-b5d476798c35"
      },
      "execution_count": 33,
      "outputs": [
        {
          "output_type": "stream",
          "name": "stdout",
          "text": [
            "[1, 2, 0, 0, 0, 0, 0, 0, 0, 0]\n",
            "[1, 2, 3, 4, 5, 6, 7, 8, 9, 10]\n"
          ]
        }
      ]
    },
    {
      "cell_type": "markdown",
      "source": [
        "# Q. 5"
      ],
      "metadata": {
        "id": "z11SfvRc7c95"
      }
    },
    {
      "cell_type": "code",
      "source": [
        "import numpy as np\n",
        "\n",
        "def my_make_size10(x):\n",
        "  x = np.array(x)\n",
        "  truncated = x[:10]\n",
        "  zeros_to_append = 10 - truncated.size\n",
        "  # Using .append() to add zeros\n",
        "  return list(np.append(truncated, [0] * zeros_to_append))\n",
        "\n",
        "# Test the function\n",
        "print(my_make_size10(range(1,2)))\n",
        "print(my_make_size10(range(1,15)))"
      ],
      "metadata": {
        "id": "xnmEOPGF7c1w",
        "colab": {
          "base_uri": "https://localhost:8080/"
        },
        "outputId": "908b1c75-54d8-42e1-f2f5-bb4da97e9135"
      },
      "execution_count": 34,
      "outputs": [
        {
          "output_type": "stream",
          "name": "stdout",
          "text": [
            "[1, 0, 0, 0, 0, 0, 0, 0, 0, 0]\n",
            "[1.0, 2.0, 3.0, 4.0, 5.0, 6.0, 7.0, 8.0, 9.0, 10.0]\n"
          ]
        }
      ]
    },
    {
      "cell_type": "markdown",
      "source": [
        "# Q. 6"
      ],
      "metadata": {
        "id": "tGUdh7Rk5GZX"
      }
    },
    {
      "cell_type": "code",
      "source": [
        "import numpy as np\n",
        "import random\n",
        "\n",
        "unique_integers = random.sample(range(10, 101), 50)\n",
        "\n",
        "# Converting the list into a numpy column vector\n",
        "vector = np.array(unique_integers).reshape(-1, 1)\n",
        "\n",
        "# Reversing the column vector\n",
        "reversed_vector = vector[::-1]\n",
        "\n",
        "print(\"Original vector:\")\n",
        "print(vector)\n",
        "print(\"\\nReversed vector:\")\n",
        "print(reversed_vector)"
      ],
      "metadata": {
        "id": "7K4qvtzZ5GKf",
        "colab": {
          "base_uri": "https://localhost:8080/"
        },
        "outputId": "bb5a7495-572f-47fb-f142-b424130b39e6"
      },
      "execution_count": 35,
      "outputs": [
        {
          "output_type": "stream",
          "name": "stdout",
          "text": [
            "Original vector:\n",
            "[[ 72]\n",
            " [ 49]\n",
            " [ 86]\n",
            " [ 58]\n",
            " [ 39]\n",
            " [ 90]\n",
            " [ 24]\n",
            " [ 12]\n",
            " [ 52]\n",
            " [ 97]\n",
            " [ 63]\n",
            " [ 19]\n",
            " [ 64]\n",
            " [ 42]\n",
            " [ 21]\n",
            " [ 55]\n",
            " [ 14]\n",
            " [ 45]\n",
            " [ 43]\n",
            " [ 50]\n",
            " [ 25]\n",
            " [ 65]\n",
            " [ 66]\n",
            " [ 56]\n",
            " [ 17]\n",
            " [ 93]\n",
            " [ 92]\n",
            " [ 26]\n",
            " [ 75]\n",
            " [ 98]\n",
            " [ 60]\n",
            " [ 47]\n",
            " [100]\n",
            " [ 83]\n",
            " [ 67]\n",
            " [ 69]\n",
            " [ 53]\n",
            " [ 46]\n",
            " [ 68]\n",
            " [ 81]\n",
            " [ 23]\n",
            " [ 51]\n",
            " [ 82]\n",
            " [ 44]\n",
            " [ 36]\n",
            " [ 85]\n",
            " [ 32]\n",
            " [ 77]\n",
            " [ 57]\n",
            " [ 41]]\n",
            "\n",
            "Reversed vector:\n",
            "[[ 41]\n",
            " [ 57]\n",
            " [ 77]\n",
            " [ 32]\n",
            " [ 85]\n",
            " [ 36]\n",
            " [ 44]\n",
            " [ 82]\n",
            " [ 51]\n",
            " [ 23]\n",
            " [ 81]\n",
            " [ 68]\n",
            " [ 46]\n",
            " [ 53]\n",
            " [ 69]\n",
            " [ 67]\n",
            " [ 83]\n",
            " [100]\n",
            " [ 47]\n",
            " [ 60]\n",
            " [ 98]\n",
            " [ 75]\n",
            " [ 26]\n",
            " [ 92]\n",
            " [ 93]\n",
            " [ 17]\n",
            " [ 56]\n",
            " [ 66]\n",
            " [ 65]\n",
            " [ 25]\n",
            " [ 50]\n",
            " [ 43]\n",
            " [ 45]\n",
            " [ 14]\n",
            " [ 55]\n",
            " [ 21]\n",
            " [ 42]\n",
            " [ 64]\n",
            " [ 19]\n",
            " [ 63]\n",
            " [ 97]\n",
            " [ 52]\n",
            " [ 12]\n",
            " [ 24]\n",
            " [ 90]\n",
            " [ 39]\n",
            " [ 58]\n",
            " [ 86]\n",
            " [ 49]\n",
            " [ 72]]\n"
          ]
        }
      ]
    },
    {
      "cell_type": "markdown",
      "source": [
        "# Q. 7"
      ],
      "metadata": {
        "id": "gRRGn21VEApO"
      }
    },
    {
      "cell_type": "code",
      "source": [
        "import numpy as np\n",
        "\n",
        "def my_checkerboard(n):\n",
        "    board_list = []\n",
        "    for i in range(n):\n",
        "        row = [(i + j) % 2 for j in range(n)]\n",
        "        board_list.append(row)\n",
        "\n",
        "    return np.array(board_list, dtype=int)\n",
        "\n",
        "def inbuilt_checkerboard(n):\n",
        "    pattern = np.array([[0, 1], [1, 0]])\n",
        "    return np.tile(pattern, (n//2, n//2))\n",
        "\n",
        "print(\"Time of execution for my_checkerboard for size of checkerboard = 100: \")\n",
        "%timeit my_checkerboard(100)\n",
        "print(\"Time of execution for inbuilt_checkerboard for size of checkerboard = 100: \")\n",
        "%timeit inbuilt_checkerboard(100)\n",
        "\n",
        "print(\"Time of execution for my_checkerboard for size of checkerboard = 150: \")\n",
        "%timeit my_checkerboard(150)\n",
        "print(\"Time of execution for inbuilt_checkerboard for size of checkerboard = 150: \")\n",
        "%timeit inbuilt_checkerboard(150)\n",
        "\n",
        "\n",
        "print(\"Time of execution for my_checkerboard for size of checkerboard = 200: \")\n",
        "%timeit my_checkerboard(200)\n",
        "print(\"Time of execution for inbuilt_checkerboard for size of checkerboard = 200: \")\n",
        "%timeit inbuilt_checkerboard(200)"
      ],
      "metadata": {
        "colab": {
          "base_uri": "https://localhost:8080/"
        },
        "id": "za0vNSR0D-5_",
        "outputId": "f01a2bb5-573d-490b-cdeb-8b544391a112"
      },
      "execution_count": 36,
      "outputs": [
        {
          "output_type": "stream",
          "name": "stdout",
          "text": [
            "Time of execution for my_checkerboard for size of checkerboard = 100: \n",
            "1.31 ms ± 170 µs per loop (mean ± std. dev. of 7 runs, 100 loops each)\n",
            "Time of execution for inbuilt_checkerboard for size of checkerboard = 100: \n",
            "28.1 µs ± 794 ns per loop (mean ± std. dev. of 7 runs, 10000 loops each)\n",
            "Time of execution for my_checkerboard for size of checkerboard = 150: \n",
            "2.82 ms ± 90.5 µs per loop (mean ± std. dev. of 7 runs, 100 loops each)\n",
            "Time of execution for inbuilt_checkerboard for size of checkerboard = 150: \n",
            "52.2 µs ± 651 ns per loop (mean ± std. dev. of 7 runs, 10000 loops each)\n",
            "Time of execution for my_checkerboard for size of checkerboard = 200: \n",
            "6.7 ms ± 2.25 ms per loop (mean ± std. dev. of 7 runs, 100 loops each)\n",
            "Time of execution for inbuilt_checkerboard for size of checkerboard = 200: \n",
            "87 µs ± 658 ns per loop (mean ± std. dev. of 7 runs, 10000 loops each)\n"
          ]
        }
      ]
    },
    {
      "cell_type": "markdown",
      "source": [
        "# Q. 8"
      ],
      "metadata": {
        "id": "C_NIQavf2r7B"
      }
    },
    {
      "cell_type": "code",
      "source": [
        "import numpy as np\n",
        "\n",
        "M = np.random.randint(-20, 21, size=(10, 10))\n",
        "\n",
        "# Finding the min and max values in the matrix M\n",
        "min_val = M.min()\n",
        "max_val = M.max()\n",
        "\n",
        "# Normalizing the matrix M\n",
        "M_normalised = (M - min_val) / (max_val - min_val)\n",
        "\n",
        "print(\"Original Matrix:\")\n",
        "print(M)\n",
        "print(\"\\nNormalized Matrix:\")\n",
        "print(M_normalised)"
      ],
      "metadata": {
        "id": "rmM6G44W2ruF",
        "colab": {
          "base_uri": "https://localhost:8080/"
        },
        "outputId": "1a827cb4-8292-4f24-8d23-6da3a642cc56"
      },
      "execution_count": 37,
      "outputs": [
        {
          "output_type": "stream",
          "name": "stdout",
          "text": [
            "Original Matrix:\n",
            "[[ -6 -12  16 -13  -9   6 -13  19   8  -4]\n",
            " [ -6  19 -12  17  17  -4   3  -1   9  -9]\n",
            " [-20 -16   7 -14   1  -7  -7  12  19  -7]\n",
            " [-15  19  18 -20  -4  -5   5  -5 -11  -1]\n",
            " [ 20   1  12  18 -18  17 -20  -5  10  -1]\n",
            " [-19 -15 -20  -6  14 -17 -14   4  -8  -7]\n",
            " [ 17   4   3  17  -4 -15  -3 -15   6 -13]\n",
            " [ 16 -17 -10  -1   0 -17  -9  16  18   7]\n",
            " [-18   2  -4  18  -8   5  -9 -19  -7   9]\n",
            " [  9 -13  14 -18  12  16  18  17 -17  12]]\n",
            "\n",
            "Normalized Matrix:\n",
            "[[0.35  0.2   0.9   0.175 0.275 0.65  0.175 0.975 0.7   0.4  ]\n",
            " [0.35  0.975 0.2   0.925 0.925 0.4   0.575 0.475 0.725 0.275]\n",
            " [0.    0.1   0.675 0.15  0.525 0.325 0.325 0.8   0.975 0.325]\n",
            " [0.125 0.975 0.95  0.    0.4   0.375 0.625 0.375 0.225 0.475]\n",
            " [1.    0.525 0.8   0.95  0.05  0.925 0.    0.375 0.75  0.475]\n",
            " [0.025 0.125 0.    0.35  0.85  0.075 0.15  0.6   0.3   0.325]\n",
            " [0.925 0.6   0.575 0.925 0.4   0.125 0.425 0.125 0.65  0.175]\n",
            " [0.9   0.075 0.25  0.475 0.5   0.075 0.275 0.9   0.95  0.675]\n",
            " [0.05  0.55  0.4   0.95  0.3   0.625 0.275 0.025 0.325 0.725]\n",
            " [0.725 0.175 0.85  0.05  0.8   0.9   0.95  0.925 0.075 0.8  ]]\n"
          ]
        }
      ]
    },
    {
      "cell_type": "markdown",
      "source": [
        "# Q. 9"
      ],
      "metadata": {
        "id": "-9Yq3yEg--1S"
      }
    },
    {
      "cell_type": "code",
      "source": [
        "import numpy as np\n",
        "\n",
        "# 2D numpy arrays\n",
        "A = np.array([[10, 40, 10], [1, 2, 3]])\n",
        "B = np.array([[1, 10, 30], [3, 100, 150]])\n",
        "\n",
        "def common_values(arr1, arr2):\n",
        "  s1 = set()\n",
        "  s2 = set()\n",
        "\n",
        "  for row in arr1:\n",
        "      for value in row:\n",
        "          s1.add(value)\n",
        "\n",
        "  for row in arr2:\n",
        "      for value in row:\n",
        "          s2.add(value)\n",
        "\n",
        "  # Finding common elements between the numpy arrays\n",
        "  common_values = s1.intersection(s2)\n",
        "  return list(common_values)\n",
        "\n",
        "print(\"Common values between the 2D numpy arrays is: \",common_values(A,B))"
      ],
      "metadata": {
        "id": "-OqRgSOY--rN",
        "colab": {
          "base_uri": "https://localhost:8080/"
        },
        "outputId": "6c231c00-bd44-4d2a-f646-438b4a28cf58"
      },
      "execution_count": 38,
      "outputs": [
        {
          "output_type": "stream",
          "name": "stdout",
          "text": [
            "Common values between the 2D numpy arrays is:  [1, 10, 3]\n"
          ]
        }
      ]
    },
    {
      "cell_type": "markdown",
      "source": [
        "\n",
        "\n",
        "# Q. 10\n"
      ],
      "metadata": {
        "id": "vWaj11tM2iLP"
      }
    },
    {
      "cell_type": "code",
      "execution_count": 39,
      "metadata": {
        "id": "fni8GOCh2cR3",
        "colab": {
          "base_uri": "https://localhost:8080/"
        },
        "outputId": "54999f06-20d7-4bf1-bffe-2e8c0ca47ec8"
      },
      "outputs": [
        {
          "output_type": "stream",
          "name": "stdout",
          "text": [
            "Enter the item you want to find the index of: 3\n",
            "The index of 3 in the tuple is: 2\n"
          ]
        }
      ],
      "source": [
        "def find(a,item):\n",
        "  cnt = 0\n",
        "  for i in a:\n",
        "    if(i == item):\n",
        "       return True, cnt\n",
        "    cnt += 1\n",
        "  return False, -1\n",
        "\n",
        "# Defining a tuple\n",
        "a = (1, 2, 3, 4, 5, 6, 7, 8, 9, 10, 11, 12, 13, 14, 15)\n",
        "item = int(input(\"Enter the item you want to find the index of: \"))\n",
        "c,b = find(a,item)\n",
        "if c:\n",
        "  print(f\"The index of {item} in the tuple is: {b}\")\n",
        "else :\n",
        "  print(f\"The item which you want to find doesn't exist\")"
      ]
    }
  ]
}