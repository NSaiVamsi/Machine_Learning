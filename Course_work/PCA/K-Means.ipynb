{
 "cells": [
  {
   "cell_type": "markdown",
   "metadata": {},
   "source": [
    "## IMPORTING LIBRARIES"
   ]
  },
  {
   "cell_type": "code",
   "execution_count": 1,
   "metadata": {},
   "outputs": [],
   "source": [
    "import numpy as np"
   ]
  },
  {
   "cell_type": "markdown",
   "metadata": {},
   "source": [
    "## QUESTION 1"
   ]
  },
  {
   "cell_type": "code",
   "execution_count": 2,
   "metadata": {},
   "outputs": [
    {
     "name": "stdout",
     "output_type": "stream",
     "text": [
      "Roundoff error is : 7.771561172376096e-16\n",
      "Roundoff error is : 3.064215547965432e-14\n",
      "Roundoff error is : 2.9976021664879227e-14\n",
      "Roundoff error is : 2.942091015256665e-14\n",
      "Roundoff error is : 2.0516921495072893e-13\n",
      "Roundoff error is : 2.2615243011614439e-13\n",
      "Roundoff error is : 2.1316282072803006e-13\n"
     ]
    }
   ],
   "source": [
    "inp_array = np.random.rand(10001)\n",
    "\n",
    "def my_cumsum(end):\n",
    "    cumsum = 0\n",
    "    for i in range(end+1):\n",
    "        cumsum = cumsum + inp_array[i]\n",
    "\n",
    "    return cumsum\n",
    "\n",
    "k = [100,1500,2000,2500,5000,7500,10000]\n",
    "\n",
    "for k_val in k:\n",
    "    temp = my_cumsum(k_val) - my_cumsum(k_val-1)\n",
    "    print(\"Roundoff error is :\",abs(temp - inp_array[k_val]))"
   ]
  },
  {
   "cell_type": "markdown",
   "metadata": {},
   "source": [
    "### We know that the difference between cummulative sum of k numbers and cummulative sum of k-1 numbers is the array value at kth index .When check the difference between array value at kth index and the difference between cummulative sum , we expect the answer to be 0 . Which is not the case in the output.\n",
    "\n",
    "### This is due to accumulation of round off errors"
   ]
  },
  {
   "cell_type": "markdown",
   "metadata": {},
   "source": [
    "## QUESTION 2"
   ]
  },
  {
   "cell_type": "code",
   "execution_count": 3,
   "metadata": {},
   "outputs": [
    {
     "name": "stdout",
     "output_type": "stream",
     "text": [
      "0.0\n",
      "0.1\n",
      "0.2\n",
      "0.30000000000000004\n",
      "0.4\n",
      "0.5\n",
      "0.6\n",
      "0.7\n",
      "0.7999999999999999\n",
      "0.8999999999999999\n",
      "0.9999999999999999\n",
      "1.0999999999999999\n",
      "1.2\n",
      "1.3\n",
      "1.4000000000000001\n",
      "1.5000000000000002\n",
      "1.6000000000000003\n",
      "1.7000000000000004\n",
      "1.8000000000000005\n",
      "1.9000000000000006\n"
     ]
    }
   ],
   "source": [
    "# QUESTION 2\n",
    "\n",
    "x = 0.0\n",
    "while x <= 2.0 :\n",
    "    print(x)\n",
    "    x = x + 0.1"
   ]
  },
  {
   "cell_type": "markdown",
   "metadata": {},
   "source": [
    "#### We expect the output to be exact 0.1 , 0.2 , 0.3 , 0.4 , . . . 1.9 . But that is not the case which can be seen in the output\n",
    "\n",
    "### **Reason**:\n",
    "#### The main reason is that 0.1 cannot be exactly represented in binary ,its binary representation is a repeating fraction , which means that the binary representation is not finite , so in practice it is rounded off to some finite number of digits , which is reason for some of the rounding error which can be seen above . This limitation could affect computations involving floating point arthmetic"
   ]
  },
  {
   "cell_type": "markdown",
   "metadata": {},
   "source": [
    "## QUESTION 3"
   ]
  },
  {
   "cell_type": "markdown",
   "metadata": {},
   "source": [
    "### PART A\n",
    "#### The values of x for which the given formula may lead to large round-off errors are large values , since for large values the values of $\\sqrt{x+1}$  and $\\sqrt{x}$ are nearly equal and subtraction of nearly equal numbers results in large round-off errors.\n",
    "#### MODIFIED FORMULA :\n",
    "$$ \\dfrac{1}{\\sqrt{x+1} + \\sqrt{x}} $$\n",
    "\n",
    "### PART B\n",
    "#### The values of x for which the given formula may lead to large round-off error are values closer to 0 , since for values closer to 0 , the values $\\ln{(x^2)}$ and $\\ln{(x^2 + x)}$ are nearly equal and substraction of nearly equal numbers result in large rounf-off errors.\n",
    "#### MODIFIED FORMULA :\n",
    "$$ \\ln{\\dfrac{x}{1 + x}} $$\n",
    "\n",
    "### PART C\n",
    "#### The values of x for which the given formula may lead to large round-off errors are values closer to $\\dfrac{\\pi}{4}$ , since for such values of $cos^2(x)$  and $sin^2(x)$ are nearly equal i.e,1/2 and subtraction of nearly equal numbers results in large round-off errors.\n",
    "#### MODIFIED FORMULA :\n",
    "$$ cos(2x) $$"
   ]
  },
  {
   "cell_type": "markdown",
   "metadata": {},
   "source": [
    "## QUESTION 4"
   ]
  },
  {
   "cell_type": "code",
   "execution_count": 4,
   "metadata": {},
   "outputs": [
    {
     "name": "stdout",
     "output_type": "stream",
     "text": [
      "[1, 0, 0, 0, 0, 0, 0, 0, 0, 0]\n",
      "[1, 2, 3, 4, 5, 6, 7, 8, 9, 10]\n"
     ]
    }
   ],
   "source": [
    "# QUESTION 4\n",
    "\n",
    "def make_my_size10(inp):\n",
    "    inp = list(inp)\n",
    "    length = len(inp)\n",
    "    needed = 10 - length\n",
    "    if(length >= 10):\n",
    "        return inp[:10]\n",
    "    else: \n",
    "        for i in range(needed):\n",
    "           inp.append(0)\n",
    "        return inp\n",
    "            \n",
    "\n",
    "print(make_my_size10(range(1,2)))\n",
    "print(make_my_size10(range(1,15)))\n"
   ]
  },
  {
   "cell_type": "markdown",
   "metadata": {},
   "source": [
    "## QUESTION 5"
   ]
  },
  {
   "cell_type": "code",
   "execution_count": 5,
   "metadata": {},
   "outputs": [
    {
     "name": "stdout",
     "output_type": "stream",
     "text": [
      "[1, 0, 0, 0, 0, 0, 0, 0, 0, 0]\n",
      "[1, 2, 3, 4, 5, 6, 7, 8, 9, 10]\n"
     ]
    }
   ],
   "source": [
    "# QUESTION 5\n",
    "\n",
    "def my_make_size10(inp):\n",
    "    zero = np.zeros(10,dtype=int)\n",
    "    ans = np.append(inp,zero)\n",
    "    return ans[:10]\n",
    "\n",
    "print(list(my_make_size10(range(1,2))))\n",
    "print(list(my_make_size10(range(1,15))))"
   ]
  },
  {
   "cell_type": "markdown",
   "metadata": {},
   "source": [
    "## QUESTION 6"
   ]
  },
  {
   "cell_type": "code",
   "execution_count": 6,
   "metadata": {},
   "outputs": [
    {
     "name": "stdout",
     "output_type": "stream",
     "text": [
      "The column vector is :\n",
      "[[ 11]\n",
      " [ 86]\n",
      " [ 69]\n",
      " [ 85]\n",
      " [ 26]\n",
      " [ 47]\n",
      " [ 75]\n",
      " [ 70]\n",
      " [ 27]\n",
      " [ 81]\n",
      " [ 44]\n",
      " [ 80]\n",
      " [ 31]\n",
      " [ 54]\n",
      " [ 34]\n",
      " [ 53]\n",
      " [ 78]\n",
      " [ 61]\n",
      " [ 65]\n",
      " [ 12]\n",
      " [ 39]\n",
      " [ 32]\n",
      " [ 60]\n",
      " [ 14]\n",
      " [ 66]\n",
      " [ 99]\n",
      " [ 10]\n",
      " [ 21]\n",
      " [ 13]\n",
      " [ 17]\n",
      " [ 33]\n",
      " [100]\n",
      " [ 49]\n",
      " [ 92]\n",
      " [ 52]\n",
      " [ 55]\n",
      " [ 25]\n",
      " [ 22]\n",
      " [ 76]\n",
      " [ 37]\n",
      " [ 20]\n",
      " [ 30]\n",
      " [ 93]\n",
      " [ 46]\n",
      " [ 74]\n",
      " [ 91]\n",
      " [ 96]\n",
      " [ 97]\n",
      " [ 23]\n",
      " [ 98]]\n",
      "The column vector after flipping is :\n",
      "[[ 98]\n",
      " [ 23]\n",
      " [ 97]\n",
      " [ 96]\n",
      " [ 91]\n",
      " [ 74]\n",
      " [ 46]\n",
      " [ 93]\n",
      " [ 30]\n",
      " [ 20]\n",
      " [ 37]\n",
      " [ 76]\n",
      " [ 22]\n",
      " [ 25]\n",
      " [ 55]\n",
      " [ 52]\n",
      " [ 92]\n",
      " [ 49]\n",
      " [100]\n",
      " [ 33]\n",
      " [ 17]\n",
      " [ 13]\n",
      " [ 21]\n",
      " [ 10]\n",
      " [ 99]\n",
      " [ 66]\n",
      " [ 14]\n",
      " [ 60]\n",
      " [ 32]\n",
      " [ 39]\n",
      " [ 12]\n",
      " [ 65]\n",
      " [ 61]\n",
      " [ 78]\n",
      " [ 53]\n",
      " [ 34]\n",
      " [ 54]\n",
      " [ 31]\n",
      " [ 80]\n",
      " [ 44]\n",
      " [ 81]\n",
      " [ 27]\n",
      " [ 70]\n",
      " [ 75]\n",
      " [ 47]\n",
      " [ 26]\n",
      " [ 85]\n",
      " [ 69]\n",
      " [ 86]\n",
      " [ 11]]\n"
     ]
    }
   ],
   "source": [
    "# QUESTION 6\n",
    "\n",
    "input_array = np.random.choice(np.arange(10,101),size=50,replace=False)\n",
    "\n",
    "vector = np.reshape(input_array,(50,1))\n",
    "\n",
    "print(\"The column vector is :\")\n",
    "\n",
    "print(vector)\n",
    "\n",
    "vector_flipped = np.flip(vector)\n",
    "\n",
    "print(\"The column vector after flipping is :\")\n",
    "\n",
    "print(np.flip(vector))"
   ]
  },
  {
   "cell_type": "markdown",
   "metadata": {},
   "source": [
    "## QUESTION 7"
   ]
  },
  {
   "cell_type": "code",
   "execution_count": 7,
   "metadata": {},
   "outputs": [
    {
     "name": "stdout",
     "output_type": "stream",
     "text": [
      "The checkerboard without tile function is :\n",
      "[[0 1 0 ... 1 0 1]\n",
      " [1 0 1 ... 0 1 0]\n",
      " [0 1 0 ... 1 0 1]\n",
      " ...\n",
      " [1 0 1 ... 0 1 0]\n",
      " [0 1 0 ... 1 0 1]\n",
      " [1 0 1 ... 0 1 0]]\n",
      "Time taken is :\n",
      "32.7 ms ± 119 µs per loop (mean ± std. dev. of 7 runs, 10 loops each)\n",
      "\n",
      "\n",
      "The checkerboard with tile function is :\n",
      "[[0 1 0 ... 1 0 1]\n",
      " [1 0 1 ... 0 1 0]\n",
      " [0 1 0 ... 1 0 1]\n",
      " ...\n",
      " [1 0 1 ... 0 1 0]\n",
      " [0 1 0 ... 1 0 1]\n",
      " [1 0 1 ... 0 1 0]]\n",
      "Time taken is :\n",
      "425 µs ± 7.06 µs per loop (mean ± std. dev. of 7 runs, 1,000 loops each)\n"
     ]
    }
   ],
   "source": [
    "n = 400\n",
    "\n",
    "def checkerboard(n):\n",
    "    arr = np.zeros((n,n),dtype=int)\n",
    "    for i in range(n):\n",
    "        for j in range(n):\n",
    "            arr[i][j] = (i+j)%2\n",
    "    return arr\n",
    "\n",
    "print(\"The checkerboard without tile function is :\")\n",
    "print(checkerboard(n))\n",
    "print(\"Time taken is :\")\n",
    "%timeit checkerboard(n)\n",
    "\n",
    "print(\"\\n\")\n",
    "\n",
    "tile = np.array([\n",
    "    [0,1],\n",
    "    [1,0]\n",
    "])\n",
    "\n",
    "print(\"The checkerboard with tile function is :\")\n",
    "print(np.tile(tile,(int(n/2),int(n/2))))\n",
    "print(\"Time taken is :\")\n",
    "%timeit np.tile(tile,(int(n/2),int(n/2)))\n"
   ]
  },
  {
   "cell_type": "markdown",
   "metadata": {},
   "source": [
    "## QUESTION 8"
   ]
  },
  {
   "cell_type": "code",
   "execution_count": 8,
   "metadata": {},
   "outputs": [
    {
     "name": "stdout",
     "output_type": "stream",
     "text": [
      "The original matrix is : \n",
      "[[-17 -15  15 -15 -17  10 -13   9  11   4]\n",
      " [  5   5   8 -16 -19  12   2   5  -4  11]\n",
      " [ -7  -2  -9 -19   7  -5 -19 -20   3 -20]\n",
      " [ -2  -8  10  11   5  14 -13 -16 -16 -20]\n",
      " [ -7   7   7  -3 -15 -17   0  -1  12  11]\n",
      " [  9  20  10  -2 -14  16   6  17 -11  20]\n",
      " [  3 -11 -20  -2  -9 -15 -13  -2 -20 -19]\n",
      " [  4  -5  12  -9 -16  14 -17   9  -3  -5]\n",
      " [ -1 -13   3  12  10 -14  -3   7   3  -4]\n",
      " [ 19  12  18   3  -6   6  17  17 -18  15]]\n",
      "\n",
      "The matrix after normalizing is : \n",
      "[[0.075 0.125 0.875 0.125 0.075 0.75  0.175 0.725 0.775 0.6  ]\n",
      " [0.625 0.625 0.7   0.1   0.025 0.8   0.55  0.625 0.4   0.775]\n",
      " [0.325 0.45  0.275 0.025 0.675 0.375 0.025 0.    0.575 0.   ]\n",
      " [0.45  0.3   0.75  0.775 0.625 0.85  0.175 0.1   0.1   0.   ]\n",
      " [0.325 0.675 0.675 0.425 0.125 0.075 0.5   0.475 0.8   0.775]\n",
      " [0.725 1.    0.75  0.45  0.15  0.9   0.65  0.925 0.225 1.   ]\n",
      " [0.575 0.225 0.    0.45  0.275 0.125 0.175 0.45  0.    0.025]\n",
      " [0.6   0.375 0.8   0.275 0.1   0.85  0.075 0.725 0.425 0.375]\n",
      " [0.475 0.175 0.575 0.8   0.75  0.15  0.425 0.675 0.575 0.4  ]\n",
      " [0.975 0.8   0.95  0.575 0.35  0.65  0.925 0.925 0.05  0.875]]\n"
     ]
    }
   ],
   "source": [
    "matrix = np.random.randint(low=-20,high=21,size=(10, 10))\n",
    "\n",
    "print(\"The original matrix is : \")\n",
    "\n",
    "print(matrix,end=\"\\n\\n\")\n",
    "\n",
    "maximum_value = np.max(matrix)\n",
    "\n",
    "minimum_value = np.min(matrix)\n",
    "\n",
    "if( maximum_value == minimum_value ):\n",
    "    print(\"ERROR : The maximum value and minimum value of the matrix is same\")\n",
    "else :\n",
    "    matrix = (matrix - minimum_value) / (maximum_value - minimum_value)\n",
    "\n",
    "    print(\"The matrix after normalizing is : \")\n",
    "\n",
    "    print(matrix)"
   ]
  },
  {
   "cell_type": "markdown",
   "metadata": {},
   "source": [
    "## QUESTION 9"
   ]
  },
  {
   "cell_type": "code",
   "execution_count": 9,
   "metadata": {},
   "outputs": [
    {
     "name": "stdout",
     "output_type": "stream",
     "text": [
      "{2, 3, 4, 5, 6, 7, 8, 9, 10, 11, 13, 14, 15, 17, 18, 19, 20}\n"
     ]
    }
   ],
   "source": [
    "inp_array_1 = np.array([\n",
    "    [1,2,3,4,5],\n",
    "    [6,7,8,9,10],\n",
    "    [11,12,13,14,15],\n",
    "    [16,17,18,19,20]\n",
    "])\n",
    "\n",
    "inp_array_2 = np.array([\n",
    "    [5,2,3,4,5],\n",
    "    [6,7,8,9,10],\n",
    "    [11,29,15,14,10],\n",
    "    [89,17,18,19,20],\n",
    "    [21,22,13,24,25]\n",
    "])\n",
    "\n",
    "set1 = set(inp_array_1.ravel())\n",
    "set2 = set(inp_array_2.ravel())\n",
    "\n",
    "print(set1.intersection(set2))"
   ]
  },
  {
   "cell_type": "markdown",
   "metadata": {},
   "source": [
    "## QUESTION 10"
   ]
  },
  {
   "cell_type": "code",
   "execution_count": 10,
   "metadata": {},
   "outputs": [
    {
     "name": "stdout",
     "output_type": "stream",
     "text": [
      "The index of item in tuple 'my_tuple' is  3\n",
      "The index of item in tuple 'my_tuple' is  4\n",
      "The index of item in tuple 'my_tuple' is  8\n",
      "The index of item in tuple 'my_tuple' is  10\n",
      "The index of item in tuple 'my_tuple' is  13\n",
      "ERROR : Item is not present in the input tuple\n"
     ]
    }
   ],
   "source": [
    "my_tuple = (0,1,2,3,'3',4,5,6,1.2,4.6,\"srinith\",\"harshith\",\"srinivas\",\"sridevi\")\n",
    "\n",
    "length_of_tuple = len(my_tuple)\n",
    "\n",
    "def find_index_in_tuple(item):\n",
    "    index = 0\n",
    "    for value in my_tuple:\n",
    "        if(value == item):\n",
    "            print(\"The index of item in tuple 'my_tuple' is \",index)\n",
    "            return index\n",
    "        index = index + 1\n",
    "    if index == length_of_tuple:\n",
    "        print(\"ERROR : Item is not present in the input tuple\")\n",
    "    return index\n",
    "\n",
    "# EXAMPLE OUTPUTS\n",
    "\n",
    "# NOTE : This is 0 based indexing\n",
    "\n",
    "indx = find_index_in_tuple(3)\n",
    "indx = find_index_in_tuple('3')\n",
    "indx = find_index_in_tuple(1.2)\n",
    "indx = find_index_in_tuple('srinith')\n",
    "indx = find_index_in_tuple('sridevi')\n",
    "indx = find_index_in_tuple(9)"
   ]
  }
 ],
 "metadata": {
  "kernelspec": {
   "display_name": "Python 3",
   "language": "python",
   "name": "python3"
  },
  "language_info": {
   "codemirror_mode": {
    "name": "ipython",
    "version": 3
   },
   "file_extension": ".py",
   "mimetype": "text/x-python",
   "name": "python",
   "nbconvert_exporter": "python",
   "pygments_lexer": "ipython3",
   "version": "3.9.6"
  }
 },
 "nbformat": 4,
 "nbformat_minor": 2
}
